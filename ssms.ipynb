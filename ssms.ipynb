{
 "cells": [
  {
   "cell_type": "code",
   "execution_count": 34,
   "metadata": {},
   "outputs": [],
   "source": [
    "import torch\n",
    "import torch.nn as nn\n",
    "\n",
    "input_size = 1  # Since we're working with one number at a time\n",
    "output_size = 1  # Predicting the next number in the sequence\n",
    "sequence_length = 1  # Length of the input sequence (e.g., 1 to 5, 2 to 6, etc.)\n",
    "batch_size = 16\n",
    "\n",
    "def create_sequences(data):\n",
    "    x_data, y_data = [], []\n",
    "    for num in data:\n",
    "        x_data.append([[num]]) \n",
    "        y_data.append([1 if num == 0 else 0])\n",
    "    return torch.tensor(x_data, dtype=torch.float32), torch.tensor(y_data, dtype=torch.float32)\n",
    "\n",
    "data = [0, 1] * 25  \n",
    "\n",
    "x, y = create_sequences(data)"
   ]
  },
  {
   "cell_type": "code",
   "execution_count": 41,
   "metadata": {},
   "outputs": [
    {
     "name": "stdout",
     "output_type": "stream",
     "text": [
      "Epoch [10/20], Loss: 0.2541\n",
      "Epoch [20/20], Loss: 0.2510\n"
     ]
    }
   ],
   "source": [
    "class SimpleRNN(nn.Module):\n",
    "    def __init__(self, input_size, output_size):\n",
    "        super(SimpleRNN, self).__init__()\n",
    "        self.hidden_size = output_size \n",
    "        self.rnn = nn.RNN(input_size, self.hidden_size, batch_first=True)\n",
    "    \n",
    "    def forward(self, x, h0=None):\n",
    "        if h0 is None:\n",
    "            h0 = torch.zeros(1, x.size(0), self.hidden_size).to(x.device)  \n",
    "        out, _ = self.rnn(x, h0)\n",
    "        return out\n",
    "\n",
    "model = SimpleRNN(input_size, output_size)\n",
    "criterion = nn.MSELoss()\n",
    "optimizer = torch.optim.Adam(model.parameters(), lr=0.01)\n",
    "\n",
    "num_epochs = 20\n",
    "hidden_state = None  \n",
    "for epoch in range(num_epochs):\n",
    "    output = model(x, hidden_state)\n",
    "    loss = criterion(output, y)\n",
    "    optimizer.zero_grad()\n",
    "    loss.backward()\n",
    "    optimizer.step()\n",
    "    \n",
    "    if (epoch + 1) % 10 == 0:\n",
    "        print(f'Epoch [{epoch + 1}/{num_epochs}], Loss: {loss.item():.4f}')\n"
   ]
  },
  {
   "cell_type": "code",
   "execution_count": 42,
   "metadata": {},
   "outputs": [
    {
     "name": "stdout",
     "output_type": "stream",
     "text": [
      "tensor([1.]) tensor([[0.4744]], grad_fn=<SelectBackward0>)\n"
     ]
    }
   ],
   "source": [
    "print(y[0], model(x)[0])"
   ]
  },
  {
   "cell_type": "code",
   "execution_count": null,
   "metadata": {},
   "outputs": [],
   "source": []
  }
 ],
 "metadata": {
  "kernelspec": {
   "display_name": "base",
   "language": "python",
   "name": "python3"
  },
  "language_info": {
   "codemirror_mode": {
    "name": "ipython",
    "version": 3
   },
   "file_extension": ".py",
   "mimetype": "text/x-python",
   "name": "python",
   "nbconvert_exporter": "python",
   "pygments_lexer": "ipython3",
   "version": "3.12.7"
  }
 },
 "nbformat": 4,
 "nbformat_minor": 2
}
